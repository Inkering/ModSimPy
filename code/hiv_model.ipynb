{
 "cells": [
  {
   "cell_type": "markdown",
   "metadata": {},
   "source": [
    "### HIV Sim Notebook - Dieter Brehm\n",
    "An implementation of an HIV model"
   ]
  },
  {
   "cell_type": "markdown",
   "metadata": {},
   "source": [
    "## Setup"
   ]
  },
  {
   "cell_type": "code",
   "execution_count": 3,
   "metadata": {},
   "outputs": [],
   "source": [
    "# Configure Jupyter so figures appear in the notebook\n",
    "%matplotlib inline\n",
    "\n",
    "# Configure Jupyter to display the assigned value after an assignment\n",
    "%config InteractiveShell.ast_node_interactivity='last_expr_or_assign'\n",
    "\n",
    "# import functions from the modsim.py module\n",
    "from modsim import *"
   ]
  },
  {
   "cell_type": "code",
   "execution_count": 4,
   "metadata": {},
   "outputs": [],
   "source": [
    "def make_system(gamma, mu, beta, alpha, sigma, delta, pi, tau, rho, dt):\n",
    "    \"\"\"Make a system object for the SIR model.\n",
    "    \n",
    "    beta: contact rate in days\n",
    "    gamma: recovery rate in days\n",
    "    \n",
    "    returns: System object\n",
    "    \"\"\"\n",
    "    init = State(CD = 1000, R=200, L=0, E=0, V=100)\n",
    "\n",
    "    t0 = 0\n",
    "    t_end = 120 * 1/dt\n",
    "\n",
    "    return System(init=init, t0=t0, t_end=t_end,\n",
    "                  gamma=gamma, mu=mu, beta=beta, \n",
    "                  alpha=alpha, sigma=sigma, delta=delta,\n",
    "                  pi=pi, tau=tau, rho=rho, dt = dt)"
   ]
  },
  {
   "cell_type": "code",
   "execution_count": 5,
   "metadata": {},
   "outputs": [],
   "source": [
    "def update_func(state, t, system):\n",
    "    \"\"\"Update the HIV model.\n",
    "    \n",
    "    state: State (R, L, E, V)\n",
    "    t: time\n",
    "    system: System object\n",
    "    \n",
    "    returns: State (RLEV)\n",
    "    \"\"\"\n",
    "    \n",
    "    unpack(system)\n",
    "    \n",
    "    cd, r, l, e, v = state\n",
    "    \n",
    "    r_flow_in = gamma * tau\n",
    "    r_flow_death = mu * r\n",
    "    r_flow_out = beta * r * v\n",
    "    \n",
    "    l_flow_in = rho * r_flow_out\n",
    "    l_flow_death = mu * l\n",
    "    l_flow_e = alpha * l\n",
    "    \n",
    "    e_flow_in = ((1 - rho) * r_flow_out + l_flow_e)\n",
    "    e_flow_death = delta * e\n",
    "    \n",
    "    v_creation_in = pi * e\n",
    "    v_flow_death = sigma * v\n",
    "    \n",
    "    #cd should be = [1000[1-tau) + R + E +L]]\n",
    "    #cd = (1 - tau) + r + e + l\n",
    "    r += (r_flow_in - r_flow_death - r_flow_out) * dt\n",
    "    l += (l_flow_in - l_flow_death - l_flow_e) * dt\n",
    "    e += (e_flow_in - e_flow_death) * dt\n",
    "    v += (v_creation_in - v_flow_death) * dt\n",
    "    cd = (1000 * (1 - tau)) + r + e + l\n",
    "    \n",
    "    return State(CD=cd, R=r, L=l, E=e, V=v)"
   ]
  },
  {
   "cell_type": "code",
   "execution_count": 6,
   "metadata": {},
   "outputs": [],
   "source": [
    "def run_simulation(system, update_func):\n",
    "    \"\"\"Runs a simulation of the system.\n",
    "\n",
    "    system: System object\n",
    "    update_func: function that updates state\n",
    "    \n",
    "    returns: TimeFrame\n",
    "    \"\"\"\n",
    "    frame = TimeFrame(columns=system.init.index)\n",
    "    frame.row[system.t0] = system.init\n",
    "    \n",
    "    for t in linrange(system.t0, system.t_end):\n",
    "        frame.row[t+1] = update_func(frame.row[t], t, system)\n",
    "    \n",
    "    return frame"
   ]
  },
  {
   "cell_type": "code",
   "execution_count": 9,
   "metadata": {},
   "outputs": [],
   "source": [
    "# gamma, mu, beta, alpha, sigma, delta, pi, tau, rho\n",
    "\n",
    "def plot_simulation_paper_consts():\n",
    "    #plt.xkcd()\n",
    "    plt.rcdefaults()\n",
    "    Gamma = 1.36\n",
    "    Mu = 1.36 * (10 ** (-3))\n",
    "    Beta = 0.00027\n",
    "    Alpha = 3.6 * (10 ** (-2))\n",
    "    Sigma = 2\n",
    "    Delta = 0.33\n",
    "    Pi = 100\n",
    "    Tau = 0.2\n",
    "    Rho = 0.1\n",
    "    dt = 0.1\n",
    "    system = make_system(Gamma, Mu, Beta, Alpha, Sigma, Delta, Pi, Tau, Rho, dt)\n",
    "    results = run_simulation(system, update_func)\n",
    "    \n",
    "    fig1 = plt.figure()\n",
    "    ax1 = fig1.add_subplot(211)\n",
    "    ax1.plot(results.R, 'r')\n",
    "    \n",
    "    ax1.set_ylabel('R')\n",
    "    ax1.set_xlabel('steps')\n",
    "    \n",
    "    ax2 = ax1.twinx()\n",
    "    ax2.set_yscale('log')\n",
    "    ax2.set_title('Cell Counts versus Time step')\n",
    "    ax2.plot(results.L, 'g', label=\"L\")\n",
    "    ax2.plot(results.E, 'b', label=\"E\")\n",
    "    ax2.plot(np.nan, '-r', label = 'R')\n",
    "    \n",
    "    ax2.set_ylabel('L, E')\n",
    "    #ax2.set_xlim([0, 150])\n",
    "    ax2.legend()\n",
    "    \n",
    "    fig2 = plt.figure()\n",
    "    ax1 = fig2.add_subplot(212)\n",
    "    ax1.plot(results.CD, 'g', label = \"CD4\")\n",
    "    ax1.set_ylabel('CD4 Lymphocytes')\n",
    "    ax1.set_xlabel('steps')\n",
    "    \n",
    "    ax2 = ax1.twinx()\n",
    "    ax2.plot(results.V, 'r', label=\"V\")\n",
    "    ax2.plot(np.nan, 'g', label = \"CD4\")\n",
    "    ax2.set_yscale('log')\n",
    "    ax2.set_ylabel('V')\n",
    "    #ax2.set_xlim([0, 150])\n",
    "    ax2.set_title('Virions versus Time Step')\n",
    "    legend(loc=\"upper right\")"
   ]
  },
  {
   "cell_type": "markdown",
   "metadata": {},
   "source": [
    "## Results"
   ]
  },
  {
   "cell_type": "code",
   "execution_count": 10,
   "metadata": {},
   "outputs": [],
   "source": [
    "plot_simulation_paper_consts()"
   ]
  },
  {
   "cell_type": "code",
   "execution_count": null,
   "metadata": {},
   "outputs": [],
   "source": []
  },
  {
   "cell_type": "code",
   "execution_count": null,
   "metadata": {},
   "outputs": [],
   "source": []
  }
 ],
 "metadata": {
  "kernelspec": {
   "display_name": "Python 3",
   "language": "python",
   "name": "python3"
  },
  "language_info": {
   "codemirror_mode": {
    "name": "ipython",
    "version": 3
   },
   "file_extension": ".py",
   "mimetype": "text/x-python",
   "name": "python",
   "nbconvert_exporter": "python",
   "pygments_lexer": "ipython3",
   "version": "3.6.6"
  }
 },
 "nbformat": 4,
 "nbformat_minor": 2
}
