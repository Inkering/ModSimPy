{
 "cells": [
  {
   "cell_type": "markdown",
   "metadata": {},
   "source": [
    "### HIV Sim Notebook - Dieter Brehm\n",
    "An implementation of an HIV model"
   ]
  },
  {
   "cell_type": "code",
   "execution_count": 1,
   "metadata": {},
   "outputs": [],
   "source": [
    "# Configure Jupyter so figures appear in the notebook\n",
    "%matplotlib inline\n",
    "\n",
    "# Configure Jupyter to display the assigned value after an assignment\n",
    "%config InteractiveShell.ast_node_interactivity='last_expr_or_assign'\n",
    "\n",
    "# import functions from the modsim.py module\n",
    "from modsim import *"
   ]
  },
  {
   "cell_type": "code",
   "execution_count": 10,
   "metadata": {},
   "outputs": [],
   "source": [
    "def make_system(gamma, mu, beta, alpha, sigma, delta, pi, tau, rho):\n",
    "    \"\"\"Make a system object for the SIR model.\n",
    "    \n",
    "    beta: contact rate in days\n",
    "    gamma: recovery rate in days\n",
    "    \n",
    "    returns: System object\n",
    "    \"\"\"\n",
    "    init = State(R=1000, L=0, E=0, V=0)\n",
    "    init /= np.sum(init)\n",
    "\n",
    "    t0 = 0\n",
    "    t_end = 7 * 14\n",
    "\n",
    "    return System(init=init, t0=t0, t_end=t_end,\n",
    "                  gamma=gamma, mu=mu, beta=beta, \n",
    "                  alpha=alpha, sigma=sigma, delta=delta,\n",
    "                  pi=pi, tau=tau, rho=rho)"
   ]
  },
  {
   "cell_type": "code",
   "execution_count": null,
   "metadata": {},
   "outputs": [],
   "source": []
  },
  {
   "cell_type": "code",
   "execution_count": 11,
   "metadata": {},
   "outputs": [],
   "source": [
    "def update_func(state, t, system):\n",
    "    \"\"\"Update the HIV model.\n",
    "    \n",
    "    state: State (R, L, E, V)\n",
    "    t: time\n",
    "    system: System object\n",
    "    \n",
    "    returns: State (RLEV)\n",
    "    \"\"\"\n",
    "    \n",
    "    unpack(system)\n",
    "    \n",
    "    r, l, e, v = state\n",
    "\n",
    "    #infected = system.beta * i * s    \n",
    "    #recovered = system.gamma * i\n",
    "    \n",
    "    r_flow_in = gamma * tau\n",
    "    r_flow_death = mu * r\n",
    "    r_flow_out = beta * r * v\n",
    "    \n",
    "    l_flow_in = p * r_flow_out\n",
    "    l_flow_death = mu * l\n",
    "    l_flow_e = alpha * l\n",
    "    \n",
    "    e_flow_in = ((1 - rho) * r_flow_out + l_flow_e)\n",
    "    e_flow_death = delta * e\n",
    "    \n",
    "    v_creation_in = pi * e\n",
    "    v_flow_death = sigma * v\n",
    "    \n",
    "    #rDelta =  (gamma * tau) - (mu * r) - (beta * r * v)\n",
    "    #lDelta = (rho * beta * r * v) - (mu * l) - (alpha * l)\n",
    "    #eDelta = ((1 - rho) * beta * r * v) + (alpha * l) - (delta * e)\n",
    "    #vDelta = (pi * e) - (sigma * v)\n",
    "    \n",
    "    #s -= infected\n",
    "    #i += infected - recovered\n",
    "    #r += recovered\n",
    "    \n",
    "    r += r_flow_in - r_flow_death - r_flow_out\n",
    "    l += l_flow_in - l_flow_death - l_flow_e\n",
    "    e += e_flow_in - e_flow_death\n",
    "    v += v_creation_in - v_flow_death\n",
    "    \n",
    "    return State(R=r, L=l, E=e, V=v)"
   ]
  },
  {
   "cell_type": "code",
   "execution_count": null,
   "metadata": {},
   "outputs": [],
   "source": []
  }
 ],
 "metadata": {
  "kernelspec": {
   "display_name": "Python 3",
   "language": "python",
   "name": "python3"
  },
  "language_info": {
   "codemirror_mode": {
    "name": "ipython",
    "version": 3
   },
   "file_extension": ".py",
   "mimetype": "text/x-python",
   "name": "python",
   "nbconvert_exporter": "python",
   "pygments_lexer": "ipython3",
   "version": "3.6.5"
  }
 },
 "nbformat": 4,
 "nbformat_minor": 2
}
