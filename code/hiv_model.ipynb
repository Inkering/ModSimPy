{
 "cells": [
  {
   "cell_type": "markdown",
   "metadata": {},
   "source": [
    "### HIV Sim Notebook - Dieter Brehm\n",
    "An implementation of an HIV model"
   ]
  },
  {
   "cell_type": "code",
   "execution_count": 3,
   "metadata": {},
   "outputs": [],
   "source": [
    "# Configure Jupyter so figures appear in the notebook\n",
    "%matplotlib inline\n",
    "\n",
    "# Configure Jupyter to display the assigned value after an assignment\n",
    "%config InteractiveShell.ast_node_interactivity='last_expr_or_assign'\n",
    "\n",
    "# import functions from the modsim.py module\n",
    "from modsim import *"
   ]
  },
  {
   "cell_type": "code",
   "execution_count": 4,
   "metadata": {},
   "outputs": [],
   "source": [
    "def make_system(gamma, mu, beta, alpha, sigma, delta, pi, tau, rho, dt):\n",
    "    \"\"\"Make a system object for the SIR model.\n",
    "    \n",
    "    beta: contact rate in days\n",
    "    gamma: recovery rate in days\n",
    "    \n",
    "    returns: System object\n",
    "    \"\"\"\n",
    "    init = State(R=200, L=0, E=0, V=100)\n",
    "\n",
    "    t0 = 0\n",
    "    t_end = 120 * 1/dt\n",
    "\n",
    "    return System(init=init, t0=t0, t_end=t_end,\n",
    "                  gamma=gamma, mu=mu, beta=beta, \n",
    "                  alpha=alpha, sigma=sigma, delta=delta,\n",
    "                  pi=pi, tau=tau, rho=rho, dt = dt)"
   ]
  },
  {
   "cell_type": "code",
   "execution_count": 5,
   "metadata": {},
   "outputs": [],
   "source": [
    "def update_func(state, t, system):\n",
    "    \"\"\"Update the HIV model.\n",
    "    \n",
    "    state: State (R, L, E, V)\n",
    "    t: time\n",
    "    system: System object\n",
    "    \n",
    "    returns: State (RLEV)\n",
    "    \"\"\"\n",
    "    \n",
    "    unpack(system)\n",
    "    \n",
    "    r, l, e, v = state\n",
    "    \n",
    "    r_flow_in = gamma * tau\n",
    "    r_flow_death = mu * r\n",
    "    r_flow_out = beta * r * v\n",
    "    \n",
    "    l_flow_in = rho * r_flow_out\n",
    "    l_flow_death = mu * l\n",
    "    l_flow_e = alpha * l\n",
    "    \n",
    "    e_flow_in = ((1 - rho) * r_flow_out + l_flow_e)\n",
    "    e_flow_death = delta * e\n",
    "    \n",
    "    v_creation_in = pi * e\n",
    "    v_flow_death = sigma * v\n",
    "    \n",
    "    r += (r_flow_in - r_flow_death - r_flow_out) * dt\n",
    "    l += (l_flow_in - l_flow_death - l_flow_e) * dt\n",
    "    e += (e_flow_in - e_flow_death) * dt\n",
    "    v += (v_creation_in - v_flow_death) * dt\n",
    "    \n",
    "    return State(R=r, L=l, E=e, V=v)"
   ]
  },
  {
   "cell_type": "code",
   "execution_count": 6,
   "metadata": {},
   "outputs": [],
   "source": [
    "def plot_results(a, b, c, d):\n",
    "    \"\"\"Plot the results of a SIR model.\n",
    "    \n",
    "    S: TimeSeries\n",
    "    I: TimeSeries\n",
    "    R: TimeSeries\n",
    "    \"\"\"\n",
    "    plot(a, '--', label='r')\n",
    "    plot(b, '-', label='l')\n",
    "    plot(c, '-', label='e')\n",
    "    plot(d, '-', label='v')\n",
    "    decorate()\n",
    "    decorate(xlabel='Time (days)',\n",
    "             ylabel='Population')"
   ]
  },
  {
   "cell_type": "code",
   "execution_count": 7,
   "metadata": {},
   "outputs": [],
   "source": [
    "def run_simulation(system, update_func):\n",
    "    \"\"\"Runs a simulation of the system.\n",
    "        \n",
    "    system: System object\n",
    "    update_func: function that updates state\n",
    "    \n",
    "    returns: TimeFrame\n",
    "    \"\"\"\n",
    "    frame = TimeFrame(columns=system.init.index)\n",
    "    frame.row[system.t0] = system.init\n",
    "    \n",
    "    for t in linrange(system.t0, system.t_end):\n",
    "        frame.row[t+1] = update_func(frame.row[t], t, system)\n",
    "    \n",
    "    return frame"
   ]
  },
  {
   "cell_type": "code",
   "execution_count": 31,
   "metadata": {},
   "outputs": [],
   "source": [
    "# gamma, mu, beta, alpha, sigma, delta, pi, tau, rho\n",
    "\n",
    "def plot_simulation_paper_consts():\n",
    "    Gamma = 1.36\n",
    "    Mu = 1.36 * (10 ** (-3))\n",
    "    Beta = 0.00027\n",
    "    Alpha = 3.6 * (10 ** (-2))\n",
    "    Sigma = 2\n",
    "    Delta = 0.33\n",
    "    Pi = 100\n",
    "    Tau = 0.2\n",
    "    Rho = 0.1\n",
    "    dt = 0.2\n",
    "    system = make_system(Gamma, Mu, Beta, Alpha, Sigma, Delta, Pi, Tau, Rho, dt)\n",
    "    results = run_simulation(system, update_func)\n",
    "    \n",
    "    fig1 = plt.figure()\n",
    "    ax1 = fig1.add_subplot(211)\n",
    "    ax1.plot(results.R, 'r', label='r')\n",
    "    ax1.set_ylabel('R (r)')\n",
    "    ax1.set_xlabel('steps')\n",
    "    ax1.legend(loc=\"upper left\")\n",
    "    \n",
    "    ax2 = ax1.twinx()\n",
    "    ax2.set_yscale('linear')\n",
    "    ax2.set_title('subplot 1')\n",
    "    ax2.plot(results.L, 'g')\n",
    "    ax2.plot(results.E, 'b')\n",
    "    ax2.set_ylabel('L (g), E (b)')\n",
    "    ax2.set_xlim([0, 150])\n",
    "    ax2.legend()\n",
    "    \n",
    "    fig2 = plt.figure()\n",
    "    ax1 = fig2.add_subplot(212)\n",
    "    ax1.plot(results.V, 'r', label=\"v\")\n",
    "    ax1.set_ylabel('V (r)')\n",
    "    ax1.set_xlabel('steps')\n",
    "    ax1.set_xlim([0, 150])\n",
    "    legend(loc=\"upper right\")"
   ]
  },
  {
   "cell_type": "code",
   "execution_count": 32,
   "metadata": {},
   "outputs": [
    {
     "data": {
      "image/png": "[encoded data removed]",
      "text/plain": [
       "<Figure size 432x288 with 2 Axes>"
      ]
     },
     "metadata": {},
     "output_type": "display_data"
    },
    {
     "data": {
      "image/png": "[encoded data removed]",
      "text/plain": [
       "<Figure size 432x288 with 1 Axes>"
      ]
     },
     "metadata": {},
     "output_type": "display_data"
    }
   ],
   "source": [
    "plot_simulation_paper_consts()"
   ]
  }
 ],
 "metadata": {
  "kernelspec": {
   "display_name": "Python 3",
   "language": "python",
   "name": "python3"
  },
  "language_info": {
   "codemirror_mode": {
    "name": "ipython",
    "version": 3
   },
   "file_extension": ".py",
   "mimetype": "text/x-python",
   "name": "python",
   "nbconvert_exporter": "python",
   "pygments_lexer": "ipython3",
   "version": "3.6.6"
  }
 },
 "nbformat": 4,
 "nbformat_minor": 2
}
